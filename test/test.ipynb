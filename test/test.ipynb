{
 "cells": [
  {
   "cell_type": "code",
   "execution_count": null,
   "metadata": {},
   "outputs": [],
   "source": [
    "from shapely import geometry, affinity\n",
    "import numpy as np\n",
    "import matplotlib\n",
    "matplotlib.use('agg')\n",
    "import matplotlib.pyplot as plt\n",
    "import os\n",
    "import pandas as pd\n",
    "\n",
    "def poly2ve(Poly):\n",
    "    '''Function to convert polygon or multipolygon types in shapely to vertex and edge matrices'''\n",
    "    \n",
    "    def edgelist(startid, length, flip=False):\n",
    "        # helper function to create edge list\n",
    "        p1 = np.arange(startid, startid+length)\n",
    "        p2 = p1 + 1\n",
    "        p2[-1] = startid\n",
    "        if not flip:\n",
    "            return np.stack((p1, p2), axis=-1)\n",
    "        else:\n",
    "            return np.flipud(np.stack((p2, p1), axis=-1))\n",
    "    \n",
    "    def singlePolygon(P):\n",
    "        # helper function for processing a single polygon instance\n",
    "        assert(isinstance(P, geometry.polygon.Polygon))\n",
    "        v = []\n",
    "        e = []\n",
    "        ecount = 0\n",
    "        # exterior\n",
    "        v_ex = np.array(P.exterior)[:-1]\n",
    "        e_ex = edgelist(0, v_ex.shape[0])\n",
    "        v.append(v_ex)\n",
    "        e.append(e_ex)\n",
    "        ecount += v_ex.shape[0]\n",
    "        # interiors\n",
    "        for int_ in P.interiors:\n",
    "            v_in = np.array(int_)\n",
    "            e_in = edgelist(ecount, v_in.shape[0], flip=False)\n",
    "            v.append(v_in)\n",
    "            e.append(e_in)\n",
    "            ecount += v_in.shape[0]\n",
    "        v = np.concatenate(v, axis=0)\n",
    "        e = np.concatenate(e, axis=0)\n",
    "        if not P.exterior.is_ccw:\n",
    "            e = np.concatenate([e[:, 1:2], e[:, 0:1]], axis=-1) # flip e\n",
    "        return v, e\n",
    "         \n",
    "    if isinstance(Poly, geometry.polygon.Polygon):\n",
    "        V, E = singlePolygon(Poly)\n",
    "    elif isinstance(Poly, geometry.multipolygon.MultiPolygon):\n",
    "        V = []\n",
    "        E = []\n",
    "        ecount = 0\n",
    "        for P in Poly.geoms:\n",
    "            v, e = singlePolygon(P)\n",
    "            V.append(v)\n",
    "            E.append(e+ecount)\n",
    "            ecount += v.shape[0]\n",
    "        V = np.concatenate(V, axis=0)\n",
    "        E = np.concatenate(E, axis=0)\n",
    "    return V, E\n",
    "\n",
    "def mnist2poly(image, hd_dim=64, wkt=False):\n",
    "    image = np.flipud(image)\n",
    "    # upsample in freq domain\n",
    "    image_F = np.fft.fftshift(np.fft.rfft2(image), axes=(0))\n",
    "    pad_w, pad_h = int((hd_dim-image_F.shape[0])/2), int(hd_dim/2+1-image_F.shape[1])\n",
    "    image_F = np.pad(image_F, ((pad_w, pad_w), (0, pad_h)), 'constant')\n",
    "    image_F = np.fft.ifftshift(image_F, axes=(0))\n",
    "    image = np.fft.irfft2(image_F)\n",
    "    cs = plt.contour(image, [(image.max()+image.min())/2])\n",
    "    plt.close()\n",
    "    polys = []\n",
    "    \n",
    "    for col in cs.collections:\n",
    "        # Loop through all polygons that have the same intensity level\n",
    "        for contour_path in col.get_paths(): \n",
    "            # Create the polygon for this intensity level\n",
    "            # The first polygon in the path is the main one, the following ones are \"holes\"\n",
    "            for ncp,cp in enumerate(contour_path.to_polygons()):\n",
    "                new_shape = geometry.Polygon(cp)\n",
    "                if ncp == 0:\n",
    "                    poly = new_shape\n",
    "                else:\n",
    "                    # Remove the holes if there are any\n",
    "                    poly = poly.difference(new_shape)\n",
    "                if not poly.is_valid:\n",
    "                    poly = poly.buffer(0)\n",
    "                polys.append(poly)\n",
    "    P = polys[-1]\n",
    "    # if len(polys) > 1:\n",
    "    #     for i in range(1, len(polys)):\n",
    "    #         P = P.difference(polys[i]).union(polys[i].difference(P))\n",
    "    P = affinity.scale(P, 1/hd_dim, 1/hd_dim, 1/hd_dim, (0, 0, 0))\n",
    "    if wkt:\n",
    "        return P.wkt\n",
    "    else:\n",
    "        return P\n",
    "\n",
    "def process_mnist2poly(images, labels, outfile, hd_dim=64):\n",
    "    \"\"\"\n",
    "    Process images in mnist dataset given list of images\n",
    "    Inputs:\n",
    "    input_list: list containing images\n",
    "    hd_dim: expansion dimension for extracting contours\n",
    "    \"\"\"\n",
    "    P_list = [None] * len(images)\n",
    "    for i, im in enumerate(images):\n",
    "        P_list[i] = mnist2poly(im, hd_dim, True)\n",
    "\n",
    "    df = pd.DataFrame({'wkt': P_list, 'label': labels})\n",
    "\n",
    "    df.to_csv(outfile, index=False)\n",
    "    \n",
    "\n",
    "def load_mnist_data():\n",
    "    \n",
    "    # import torchvision\n",
    "    # # Download and load the training set\n",
    "    # trainset = torchvision.datasets.MNIST(root='./dataset', train=True, download=True)\n",
    "    # # Download and load the test set\n",
    "    # testset = torchvision.datasets.MNIST(root='./dataset', train=False, download=True)\n",
    "    # return  trainset.data.numpy(), trainset.targets, testset.data.numpy(), testset.targets\n",
    "\n",
    "    images_train, labels_train = np.load(\"dataset/train_images.npy\"), np.load(\"dataset/train_labels.npy\")\n",
    "    images_test, labels_test = np.load(\"dataset/test_images.npy\"), np.load(\"dataset/test_labels.npy\")\n",
    "\n",
    "    return images_train[:10000], labels_train[:10000], images_test[:2000], labels_test[:2000]\n",
    "\n",
    "def main():\n",
    "    images_train, labels_train, images_test, labels_test = load_mnist_data()\n",
    "    output_root = \"dataset/polyMNIST\"\n",
    "    if not os.path.exists(output_root):\n",
    "        os.makedirs(output_root)\n",
    "    # train_file = os.path.join(output_root, \"mnist_polygon_train_10k.csv\")\n",
    "    test_file = os.path.join(output_root, \"mnist_polygon_test_2k.csv\")\n",
    "    print(\"Processing training files...\")\n",
    "    # process_mnist2poly(images_train, labels_train, outfile=train_file)\n",
    "    print(\"Processing test files...\")\n",
    "    process_mnist2poly(images_test, labels_test, outfile=test_file)\n",
    "\n",
    "if __name__ == '__main__':\n",
    "    main()"
   ]
  },
  {
   "cell_type": "code",
   "execution_count": 7,
   "metadata": {},
   "outputs": [],
   "source": [
    "# images_train, labels_train, images_test, labels_test = load_mnist_data()"
   ]
  },
  {
   "cell_type": "code",
   "execution_count": 12,
   "metadata": {},
   "outputs": [],
   "source": [
    "import pandas as pd\n",
    "from shapely import wkt\n",
    "\n",
    "train_data = pd.read_csv(\"../dataset/mnist_polygon_test_2k.csv\")"
   ]
  },
  {
   "cell_type": "code",
   "execution_count": 13,
   "metadata": {},
   "outputs": [],
   "source": [
    "wkts = train_data['wkt'][:50]\n",
    "labels = train_data['label']"
   ]
  },
  {
   "cell_type": "code",
   "execution_count": 14,
   "metadata": {},
   "outputs": [
    {
     "data": {
      "image/svg+xml": [
       "<svg xmlns=\"http://www.w3.org/2000/svg\" xmlns:xlink=\"http://www.w3.org/1999/xlink\" width=\"100.0\" height=\"100.0\" viewBox=\"0.19019951760654583 0.09547829788262063 0.6383108202498419 0.7651423700012956\" preserveAspectRatio=\"xMinYMin meet\"><g transform=\"matrix(1,0,0,-1,0,0.9560989657665369)\"><path fill-rule=\"evenodd\" fill=\"#66cc99\" stroke=\"#555555\" stroke-width=\"0.015302847400025911\" opacity=\"0.6\" d=\"M 0.3314796877275468,0.125 L 0.328125,0.1254203905374573 L 0.3125,0.135290679159256 L 0.3081409423340472,0.140625 L 0.2971354044458511,0.15625 L 0.296875,0.1565102140023292 L 0.28125,0.1674445133910409 L 0.2739319822512093,0.171875 L 0.265625,0.1772971664804382 L 0.252219253459131,0.1875 L 0.25,0.1895735728793711 L 0.2399095326384798,0.203125 L 0.236259543741044,0.21875 L 0.2367768838453947,0.234375 L 0.2375663233209853,0.25 L 0.2355159121247832,0.265625 L 0.234375,0.2690819612532809 L 0.229504159447421,0.28125 L 0.2237265154199302,0.296875 L 0.221470692276525,0.3125 L 0.2220365702564616,0.328125 L 0.2225010846385001,0.34375 L 0.2209253334373171,0.359375 L 0.21875,0.3736736469359728 L 0.2185381239028901,0.3750000000000001 L 0.21875,0.3775747920033717 L 0.2198353453994469,0.390625 L 0.2265248479381598,0.40625 L 0.2339796250524879,0.421875 L 0.234375,0.4231586562848198 L 0.2380421021571278,0.4375 L 0.2386151666431731,0.453125 L 0.2370667509553035,0.46875 L 0.2361078829224101,0.484375 L 0.2376823550919049,0.5 L 0.2415446995340286,0.515625 L 0.2482904734699665,0.53125 L 0.25,0.5340217068258166 L 0.2589060693705367,0.546875 L 0.265625,0.5581270496658862 L 0.267705668590804,0.5625 L 0.2710170531487792,0.578125 L 0.2725015851402741,0.59375 L 0.2757695144345781,0.609375 L 0.28125,0.6197854251941385 L 0.2846434336885985,0.625 L 0.2961823834727608,0.640625 L 0.296875,0.6422211671333709 L 0.3017682379355812,0.65625 L 0.300900273989505,0.671875 L 0.2978843064497463,0.6875 L 0.298290474346329,0.703125 L 0.3031081267796201,0.71875 L 0.3097651330271919,0.734375 L 0.3125,0.7397461199703754 L 0.3183918238722772,0.75 L 0.328125,0.7639529703672411 L 0.3292398164862594,0.765625 L 0.3426376612287043,0.78125 L 0.34375,0.7822891277867291 L 0.359375,0.7948082331080125 L 0.3627093156294987,0.796875 L 0.375,0.8045744156502043 L 0.390625,0.808549670780938 L 0.40625,0.8050736940760668 L 0.421875,0.8007744441057723 L 0.4375,0.8002901902553602 L 0.453125,0.8028932372447737 L 0.46875,0.8068183246393896 L 0.484375,0.8111083655619932 L 0.4876503365022239,0.8125 L 0.5,0.8180295468230492 L 0.515625,0.8270037821557044 L 0.5184322827891159,0.828125 L 0.53125,0.8322820615875719 L 0.546875,0.8307281403306802 L 0.5523457491174342,0.828125 L 0.5625,0.8223283031777067 L 0.578125,0.8165854805834178 L 0.59375,0.8174819657389139 L 0.609375,0.8196428685894533 L 0.625,0.8156568244205027 L 0.6298020426000628,0.8125 L 0.640625,0.8073177506312683 L 0.65625,0.8043417201008776 L 0.671875,0.8031990177248963 L 0.6875,0.7990971283299231 L 0.6910340192055704,0.796875 L 0.703125,0.7869905318193642 L 0.7090289472971966,0.78125 L 0.71875,0.7720371849570591 L 0.724626467600024,0.765625 L 0.734375,0.7516181108383689 L 0.7353867318166692,0.7500000000000001 L 0.7441066895502058,0.734375 L 0.75,0.7261467779209445 L 0.756104445862964,0.71875 L 0.765625,0.7048360579023564 L 0.7666003628465577,0.703125 L 0.7723949621328932,0.6875 L 0.7770729043713311,0.671875 L 0.78125,0.6619376521217227 L 0.7843282977346262,0.65625 L 0.792837174452854,0.640625 L 0.796875,0.6296698137798212 L 0.7980542245202402,0.625 L 0.7993835708244499,0.609375 L 0.7990518900291509,0.59375 L 0.7983196661801355,0.578125 L 0.7980360882381325,0.5625 L 0.798087440316145,0.546875 L 0.7979846521295922,0.53125 L 0.7978605263297874,0.515625 L 0.7981574068523769,0.5 L 0.7986019280696389,0.484375 L 0.7984295331012432,0.46875 L 0.7976558990706281,0.453125 L 0.7975669168569658,0.4375 L 0.7989569165238678,0.421875 L 0.8001717315600434,0.40625 L 0.7987542897332772,0.3906249999999999 L 0.796875,0.3858520090514197 L 0.7906261309170954,0.375 L 0.78125,0.3651197864762886 L 0.7760693718113209,0.359375 L 0.7684999242361713,0.34375 L 0.765625,0.3347489522407018 L 0.7635066054906998,0.328125 L 0.7557414857544822,0.3125 L 0.75,0.3053840349161112 L 0.743289783781683,0.296875 L 0.734375,0.285192889411537 L 0.7311924864914416,0.28125 L 0.71875,0.2687790053758037 L 0.7149212362702251,0.265625 L 0.703125,0.2525931579039751 L 0.7014655216276785,0.25 L 0.6957528476426191,0.234375 L 0.6889109911659309,0.21875 L 0.6875,0.2169502947586466 L 0.671875,0.2048184074180341 L 0.6689454944522978,0.203125 L 0.65625,0.194517923872514 L 0.6491422607427175,0.1875 L 0.640625,0.1791829947769473 L 0.6307520815359335,0.171875 L 0.625,0.168890089441785 L 0.609375,0.1634634287752532 L 0.59375,0.15741675906687 L 0.5910343359973023,0.15625 L 0.578125,0.1503056917660393 L 0.5625,0.1450520508457514 L 0.546875,0.1417197611759059 L 0.5438124115630183,0.140625 L 0.53125,0.1368982675628273 L 0.515625,0.1306416877093274 L 0.5,0.126096635845416 L 0.4897744604384146,0.125 L 0.484375,0.1244406762278035 L 0.4737980855639164,0.125 L 0.46875,0.1252790363281231 L 0.453125,0.1267343522018746 L 0.4375,0.1264732961683897 L 0.4220197055515352,0.125 L 0.421875,0.124986892505794 L 0.40625,0.1244072966381914 L 0.3953705120057528,0.125 L 0.390625,0.125286745313203 L 0.375,0.1260702051328814 L 0.359375,0.1250191725688043 L 0.3591571795338798,0.125 L 0.3437499999999999,0.1238169041789649 L 0.3314796877275468,0.125 z M 0.328125,0.2271420329813588 L 0.34375,0.2247187450644919 L 0.359375,0.2232955293597839 L 0.375,0.2240109742049244 L 0.390625,0.2253376933817126 L 0.40625,0.2251412484880326 L 0.421875,0.2241487595424146 L 0.4375,0.2244954032374348 L 0.453125,0.2258671094394021 L 0.46875,0.2258231310821295 L 0.484375,0.2242867781877926 L 0.5,0.2246492551132238 L 0.515625,0.2289066854035854 L 0.5304305771649139,0.234375 L 0.5312500000000001,0.2346358294308741 L 0.546875,0.2402194445478314 L 0.5625,0.248359931870594 L 0.56517866345752,0.25 L 0.578125,0.2565124848722505 L 0.59375,0.2601582673802502 L 0.609375,0.264219284592964 L 0.6117216397936605,0.265625 L 0.625,0.2743164792138136 L 0.631379194645575,0.28125 L 0.640625,0.2926933495655242 L 0.6448482363669922,0.296875 L 0.65625,0.3100564303732794 L 0.658797545680395,0.3125 L 0.671875,0.3251551258144175 L 0.6754244320611902,0.328125 L 0.6875,0.3396291049546569 L 0.6903665648556004,0.34375 L 0.695303466780951,0.359375 L 0.6987816789564404,0.3749999999999999 L 0.703125,0.3859221708043317 L 0.7056840361607772,0.390625 L 0.716602660886149,0.40625 L 0.71875,0.4109034645139371 L 0.7233320798660426,0.421875 L 0.724148468028579,0.4375 L 0.7237773634734996,0.453125 L 0.7243438817114829,0.46875 L 0.724895479344482,0.484375 L 0.7242231803290874,0.5 L 0.7232890289509789,0.515625 L 0.7239059277690968,0.53125 L 0.7254558695276976,0.546875 L 0.7254857970914881,0.5625 L 0.7223644133880771,0.578125 L 0.71875,0.5866834591788712 L 0.715373105589376,0.59375 L 0.7086696158261357,0.609375 L 0.7039871926461418,0.625 L 0.703125,0.6278774700235177 L 0.7002817176412679,0.640625 L 0.6954920837503045,0.65625 L 0.6875,0.6691556604011867 L 0.6851240289222529,0.671875 L 0.671875,0.6824957846690298 L 0.666145184600522,0.6875 L 0.65625,0.6985164201209019 L 0.6523200932424318,0.703125 L 0.64076920235202,0.71875 L 0.640625,0.7188926256819957 L 0.625,0.73110477681457 L 0.6200883570433486,0.734375 L 0.609375,0.7408883133864329 L 0.59375,0.7445177968651824 L 0.578125,0.7426358823487759 L 0.5625,0.73953144826468 L 0.546875,0.7391328619280393 L 0.53125,0.7410493321468191 L 0.515625,0.7407850458273483 L 0.5,0.738236779144102 L 0.484375,0.7359152385149152 L 0.46875,0.7357533285081348 L 0.453125,0.735599671016381 L 0.447381848076309,0.734375 L 0.4375,0.7321774037593751 L 0.421875,0.7232685452975078 L 0.4174553995584724,0.71875 L 0.4083596897724648,0.703125 L 0.40625,0.699634077105655 L 0.3974006617970062,0.6875 L 0.390625,0.6807869362797426 L 0.3802315869331206,0.671875 L 0.375,0.6666052215164807 L 0.3676689478230067,0.65625 L 0.3612078574473375,0.640625 L 0.359375,0.6338306057523382 L 0.3566939019314,0.625 L 0.3526270949067181,0.609375 L 0.3483213226516171,0.59375 L 0.3439651657435986,0.578125 L 0.34375,0.5775373631170087 L 0.3395505956584952,0.5625 L 0.333968493020239,0.546875 L 0.328125,0.535173974376971 L 0.3258374822521108,0.53125 L 0.3156747274973455,0.515625 L 0.3125,0.5107978722947115 L 0.3064139108819921,0.5 L 0.3005863990161345,0.484375 L 0.296875,0.4690533498268276 L 0.2968060515509394,0.46875 L 0.2950796615312215,0.453125 L 0.2953720470209193,0.4375 L 0.2967828522881692,0.421875 L 0.296875,0.4197649573394304 L 0.2974494025214096,0.40625 L 0.296875,0.3935068395373356 L 0.2967424782032934,0.390625 L 0.2960186171714607,0.375 L 0.2964305641472791,0.359375 L 0.296875,0.3500748169650452 L 0.2971792038181065,0.34375 L 0.296875,0.329712206973758 L 0.296839929224992,0.328125 L 0.2958559886959847,0.3125 L 0.2957995320658031,0.296875 L 0.2967459775821983,0.28125 L 0.296875,0.2789397464208884 L 0.2975804406053319,0.265625 L 0.2991720044925371,0.25 L 0.3082362974628339,0.234375 L 0.3125,0.2314568411382189 L 0.328125,0.2271420329813588 z\" /></g></svg>"
      ],
      "text/plain": [
       "<POLYGON ((0.331 0.125, 0.328 0.125, 0.312 0.135, 0.308 0.141, 0.297 0.156, ...>"
      ]
     },
     "execution_count": 14,
     "metadata": {},
     "output_type": "execute_result"
    }
   ],
   "source": [
    "i = 10\n",
    "wkt.loads(wkts[i])"
   ]
  },
  {
   "cell_type": "code",
   "execution_count": 16,
   "metadata": {},
   "outputs": [],
   "source": [
    "from deep_geometry import vectorizer as gv\n",
    "from deep_geometry import GeomScaler\n",
    "\n",
    "geom_vectors = []\n",
    "for wkt_str in wkts:\n",
    "    # print(gv.num_points_from_wkt(wkt_str))\n",
    "    geom_vectors.append(gv.vectorize_wkt(wkt_str, max_points=64, fixed_size=True, simplify=True))"
   ]
  },
  {
   "cell_type": "code",
   "execution_count": 17,
   "metadata": {},
   "outputs": [
    {
     "data": {
      "text/plain": [
       "0"
      ]
     },
     "execution_count": 17,
     "metadata": {},
     "output_type": "execute_result"
    }
   ],
   "source": [
    "labels[i]"
   ]
  },
  {
   "cell_type": "code",
   "execution_count": 160,
   "metadata": {},
   "outputs": [],
   "source": [
    "import gzip\n",
    "import numpy as np\n",
    "\n",
    "images_test, labels_test = np.load(\"dataset/test_images.npy\"), np.load(\"dataset/test_labels.npy\")"
   ]
  },
  {
   "cell_type": "code",
   "execution_count": 1,
   "metadata": {},
   "outputs": [
    {
     "name": "stderr",
     "output_type": "stream",
     "text": [
      "/home/dingkang/envs/nlp_a4/lib/python3.10/site-packages/tqdm/auto.py:21: TqdmWarning: IProgress not found. Please update jupyter and ipywidgets. See https://ipywidgets.readthedocs.io/en/stable/user_install.html\n",
      "  from .autonotebook import tqdm as notebook_tqdm\n"
     ]
    },
    {
     "data": {
      "image/png": "[encoded data removed]",
      "text/plain": [
       "<Figure size 640x480 with 1 Axes>"
      ]
     },
     "metadata": {},
     "output_type": "display_data"
    }
   ],
   "source": [
    "def get_mnist():\n",
    "    import torchvision\n",
    "    # Download and load the training set\n",
    "    trainset = torchvision.datasets.MNIST(root='./dataset', train=True, download=True)\n",
    "    # Download and load the test set\n",
    "    testset = torchvision.datasets.MNIST(root='./dataset', train=False, download=True)\n",
    "    return  trainset.data.numpy(), trainset.targets, testset.data.numpy(), testset.targets\n",
    "\n",
    "_, _, images_test, labels_test = get_mnist()\n",
    "\n",
    "import matplotlib.pyplot as plt\n",
    "\n",
    "i = 8\n",
    "\n",
    "# Display the image\n",
    "plt.imshow(images_test[i], cmap='gray')  # Use cmap='gray' for grayscale images\n",
    "plt.axis('off')  # Turn off axis labels\n",
    "plt.title(f\"{labels_test[i]}\")\n",
    "plt.show()"
   ]
  }
 ],
 "metadata": {
  "kernelspec": {
   "display_name": "nlp_a4",
   "language": "python",
   "name": "python3"
  },
  "language_info": {
   "codemirror_mode": {
    "name": "ipython",
    "version": 3
   },
   "file_extension": ".py",
   "mimetype": "text/x-python",
   "name": "python",
   "nbconvert_exporter": "python",
   "pygments_lexer": "ipython3",
   "version": "3.10.12"
  },
  "orig_nbformat": 4
 },
 "nbformat": 4,
 "nbformat_minor": 2
}
